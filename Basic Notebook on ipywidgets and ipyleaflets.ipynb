{
 "cells": [
  {
   "cell_type": "markdown",
   "metadata": {},
   "source": [
    "# Exploring ipywidgets"
   ]
  },
  {
   "cell_type": "code",
   "execution_count": 1,
   "metadata": {},
   "outputs": [],
   "source": [
    "import ipywidgets"
   ]
  },
  {
   "cell_type": "markdown",
   "metadata": {},
   "source": [
    "### IntSlider widget"
   ]
  },
  {
   "cell_type": "code",
   "execution_count": 2,
   "metadata": {},
   "outputs": [
    {
     "data": {
      "application/vnd.jupyter.widget-view+json": {
       "model_id": "ec207ee24c904720b5a840eb9833b350",
       "version_major": 2,
       "version_minor": 0
      },
      "text/plain": [
       "interactive(children=(IntSlider(value=5, description='number', max=10), Output()), _dom_classes=('widget-inter…"
      ]
     },
     "metadata": {},
     "output_type": "display_data"
    },
    {
     "data": {
      "text/plain": [
       "<function __main__.square(number)>"
      ]
     },
     "execution_count": 2,
     "metadata": {},
     "output_type": "execute_result"
    }
   ],
   "source": [
    "slider = ipywidgets.IntSlider(value=5,\n",
    "                             min=0,\n",
    "                             max=10,\n",
    "                             step=1,\n",
    "                             )\n",
    "\n",
    "def square(number):\n",
    "    return number*number\n",
    "\n",
    "ipywidgets.interact(square,number=slider)"
   ]
  },
  {
   "cell_type": "markdown",
   "metadata": {},
   "source": [
    "### link widget"
   ]
  },
  {
   "cell_type": "code",
   "execution_count": 3,
   "metadata": {},
   "outputs": [
    {
     "data": {
      "application/vnd.jupyter.widget-view+json": {
       "model_id": "d7a0138b156f459ab0dc635a35eb4a39",
       "version_major": 2,
       "version_minor": 0
      },
      "text/plain": [
       "FloatText(value=0.0)"
      ]
     },
     "metadata": {},
     "output_type": "display_data"
    },
    {
     "data": {
      "application/vnd.jupyter.widget-view+json": {
       "model_id": "bb5e7f7a0fce428492ac39550be77097",
       "version_major": 2,
       "version_minor": 0
      },
      "text/plain": [
       "FloatLogSlider(value=1.0)"
      ]
     },
     "metadata": {},
     "output_type": "display_data"
    }
   ],
   "source": [
    "a=ipywidgets.widgets.FloatText()\n",
    "b=ipywidgets.widgets.FloatLogSlider()\n",
    "link= ipywidgets.link((a,'value'),(b,'value'))\n",
    "display(a,b)"
   ]
  },
  {
   "cell_type": "code",
   "execution_count": 4,
   "metadata": {
    "scrolled": false
   },
   "outputs": [
    {
     "data": {
      "application/vnd.jupyter.widget-view+json": {
       "model_id": "a139d37e4e4a4d87a6daf377b4999db6",
       "version_major": 2,
       "version_minor": 0
      },
      "text/plain": [
       "Map(center=[0.0, 0.0], controls=(ZoomControl(options=['position', 'zoom_in_text', 'zoom_in_title', 'zoom_out_t…"
      ]
     },
     "metadata": {},
     "output_type": "display_data"
    }
   ],
   "source": [
    "import ipyleaflet\n",
    "from ipyleaflet import Map\n",
    "\n",
    "bmap=ipyleaflet.Map(zoom=1)\n",
    "bmap"
   ]
  },
  {
   "cell_type": "markdown",
   "metadata": {},
   "source": [
    "# Exploring ipyleaflet"
   ]
  },
  {
   "cell_type": "code",
   "execution_count": 5,
   "metadata": {
    "scrolled": false
   },
   "outputs": [
    {
     "data": {
      "application/vnd.jupyter.widget-view+json": {
       "model_id": "4b50f92f28f743268bdef142ea41516a",
       "version_major": 2,
       "version_minor": 0
      },
      "text/plain": [
       "interactive(children=(RadioButtons(description='Map: ', options=('Positron', 'DarkMatter', 'WorldStreetMap', '…"
      ]
     },
     "metadata": {},
     "output_type": "display_data"
    },
    {
     "data": {
      "text/plain": [
       "<function __main__.toggleMap(map)>"
      ]
     },
     "execution_count": 5,
     "metadata": {},
     "output_type": "execute_result"
    }
   ],
   "source": [
    "from ipyleaflet import basemaps\n",
    "\n",
    "radioButton = ipywidgets.RadioButtons(options=['Positron', 'DarkMatter', 'WorldStreetMap', 'DeLorme', \n",
    "                                                'WorldTopoMap', 'WorldImagery', 'NatGeoWorldMap', 'HikeBike', \n",
    "                                                'HyddaFull', 'Night', 'ModisTerra', 'Mapnik', 'HOT', 'OpenTopoMap', \n",
    "                                                'Toner', 'Watercolor'],value='Positron',\n",
    "                                      description='Map: ')\n",
    "\n",
    "def toggleMap(map):\n",
    "    if map=='Positron': m=Map(zoom=2,basemap=basemaps.CartoDB.Positron)\n",
    "    if map == 'DarkMatter': m = Map(zoom=1, basemap=basemaps.CartoDB.DarkMatter)\n",
    "    if map == 'WorldStreetMap': m = Map(center=(40.67, -73.94), zoom=10, basemap=basemaps.Esri.WorldStreetMap)\n",
    "    if map == 'DeLorme': m = Map(center=(40, -99), zoom=4, basemap=basemaps.Esri.DeLorme)\n",
    "    if map == 'WorldTopoMap': m = Map(center=(40, -99), zoom=4, basemap=basemaps.Esri.WorldTopoMap)\n",
    "    if map == 'WorldImagery': m = Map(center=(40, -99), zoom=4, basemap=basemaps.Esri.WorldImagery)\n",
    "    if map == 'NatGeoWorldMap': m = Map(center=(20.5,78), zoom=4, basemap=basemaps.Esri.NatGeoWorldMap)\n",
    "    if map == 'HikeBike': m = Map(center=(39.73,-104.98), zoom=10, basemap=basemaps.HikeBike.HikeBike)\n",
    "    if map == 'HyddaFull': m = Map(center=(40, -99), zoom=4, basemap=basemaps.Hydda.Full)\n",
    "    if map == 'Night': m = Map(center=(40, -99), zoom=4, basemap=basemaps.NASAGIBS.ViirsEarthAtNight2012)\n",
    "    if map == 'ModisTerra': m = Map(center=(40, -99), zoom=4, basemap=basemaps.NASAGIBS.ModisTerraTrueColorCR)\n",
    "    if map == 'Mapnik': m = Map(center=(40, -99), zoom=4, basemap=basemaps.OpenStreetMap.Mapnik)\n",
    "    if map == 'HOT': m = Map(center=(40, -99), zoom=4, basemap=basemaps.OpenStreetMap.HOT)\n",
    "    if map == 'OpenTopoMap': m = Map(center=(40, -99), zoom=4, basemap=basemaps.OpenTopoMap)\n",
    "    if map == 'Toner': m = Map(center=(20.5,78), zoom=5, basemap=basemaps.Stamen.Toner)\n",
    "    if map == 'Watercolor': m = Map(center=(40, -99), zoom=4, basemap=basemaps.Stamen.Watercolor)\n",
    "    display(m)\n",
    "        \n",
    "ipywidgets.interact(toggleMap, map=radioButton)"
   ]
  },
  {
   "cell_type": "markdown",
   "metadata": {},
   "source": [
    "### Adding Marker"
   ]
  },
  {
   "cell_type": "code",
   "execution_count": 6,
   "metadata": {},
   "outputs": [
    {
     "data": {
      "application/vnd.jupyter.widget-view+json": {
       "model_id": "73bb9b36621b4b64adf6bcf81f10e1c1",
       "version_major": 2,
       "version_minor": 0
      },
      "text/plain": [
       "Map(center=[38.950521, -77.150801], controls=(ZoomControl(options=['position', 'zoom_in_text', 'zoom_in_title'…"
      ]
     },
     "metadata": {},
     "output_type": "display_data"
    }
   ],
   "source": [
    "import geocoder\n",
    "from ipyleaflet import Marker\n",
    "location = geocoder.osm('1000 Colonial Farm Rd, McLean, VA 22101, United States')\n",
    "latlng=[location.lat,location.lng]\n",
    "tha=Map(center=latlng)\n",
    "marker=Marker(location=latlng,title='CIA HQ')\n",
    "tha.add_layer(marker)\n",
    "tha"
   ]
  },
  {
   "cell_type": "markdown",
   "metadata": {},
   "source": [
    "### Multiple Custom Markers"
   ]
  },
  {
   "cell_type": "code",
   "execution_count": 7,
   "metadata": {
    "scrolled": false
   },
   "outputs": [
    {
     "data": {
      "application/vnd.jupyter.widget-view+json": {
       "model_id": "8cb7fc75cfd24b9dbeca51b084b97df8",
       "version_major": 2,
       "version_minor": 0
      },
      "text/plain": [
       "Map(center=[40, -99], controls=(ZoomControl(options=['position', 'zoom_in_text', 'zoom_in_title', 'zoom_out_te…"
      ]
     },
     "metadata": {},
     "output_type": "display_data"
    }
   ],
   "source": [
    "from vega_datasets import data\n",
    "airports = data.airports()\n",
    "\n",
    "airports = airports[:35]\n",
    "amap= Map(center=(40,-99),zoom=4)\n",
    "for (index,rows) in airports.iterrows():\n",
    "    marker = Marker(location=[rows.loc['latitude'],rows.loc['longitude']],\n",
    "                   title = rows.loc['name']+ ' '+rows.loc['city']+' '+rows.loc['state'])\n",
    "    amap.add_layer(marker)\n",
    "    \n",
    "amap"
   ]
  },
  {
   "cell_type": "markdown",
   "metadata": {},
   "source": [
    "### GeoJSON Layering"
   ]
  },
  {
   "cell_type": "code",
   "execution_count": 8,
   "metadata": {},
   "outputs": [
    {
     "data": {
      "application/vnd.jupyter.widget-view+json": {
       "model_id": "1003f7560d9b4aee85ea83fee3cc1723",
       "version_major": 2,
       "version_minor": 0
      },
      "text/plain": [
       "Map(center=[40, -99], controls=(ZoomControl(options=['position', 'zoom_in_text', 'zoom_in_title', 'zoom_out_te…"
      ]
     },
     "metadata": {},
     "output_type": "display_data"
    }
   ],
   "source": [
    "from ipyleaflet import GeoJSON\n",
    "import json\n",
    "with open('map.geojson') as file:\n",
    "    geojson_colorado = json.load(file)\n",
    "    \n",
    "usmap=Map(center=(40,-99),zoom=4)\n",
    "geojson_layer = GeoJSON(data=geojson_colorado,\n",
    "                        style={'color':'red',\n",
    "                              'opacity':1,\n",
    "                              'weight':1.9,\n",
    "                               'fill': 'green',\n",
    "                               'fillOpacity': 0.5})\n",
    "\n",
    "usmap.add_layer(geojson_layer)\n",
    "usmap"
   ]
  },
  {
   "cell_type": "code",
   "execution_count": 9,
   "metadata": {
    "scrolled": false
   },
   "outputs": [
    {
     "data": {
      "application/vnd.jupyter.widget-view+json": {
       "model_id": "7ba4301d61d64c598e3188bd6d1d517d",
       "version_major": 2,
       "version_minor": 0
      },
      "text/plain": [
       "Map(center=[20.5, 78], controls=(ZoomControl(options=['position', 'zoom_in_text', 'zoom_in_title', 'zoom_out_t…"
      ]
     },
     "metadata": {},
     "output_type": "display_data"
    }
   ],
   "source": [
    "indimap=Map(center=(20.5,78),zoom=4)\n",
    "with open('map1.geojson') as file:\n",
    "    geojson_punjab = json.load(file)\n",
    "\n",
    "geojson_layer = GeoJSON(data=geojson_punjab,\n",
    "                        style={'color':'red',\n",
    "                              'opacity':1,\n",
    "                              'weight':1.9,\n",
    "                               'fill': 'green',\n",
    "                               'fillOpacity': 0.5})\n",
    "\n",
    "indimap.add_layer(geojson_layer)\n",
    "indimap"
   ]
  },
  {
   "cell_type": "markdown",
   "metadata": {},
   "source": [
    "### Choropleth Map"
   ]
  },
  {
   "cell_type": "code",
   "execution_count": 10,
   "metadata": {
    "scrolled": false
   },
   "outputs": [
    {
     "data": {
      "application/vnd.jupyter.widget-view+json": {
       "model_id": "90ad2359121545f1bb39502eb170b520",
       "version_major": 2,
       "version_minor": 0
      },
      "text/plain": [
       "Map(center=[39.78, -86.15], controls=(ZoomControl(options=['position', 'zoom_in_text', 'zoom_in_title', 'zoom_…"
      ]
     },
     "metadata": {},
     "output_type": "display_data"
    }
   ],
   "source": [
    "import pandas as pd\n",
    "import numpy as np\n",
    "from branca.colormap import linear\n",
    "with open('map2.geojson') as f:\n",
    "    geo_json_data = json.load(f)\n",
    "\n",
    "pop_df = pd.read_csv('indiana_population_by_county.csv')\n",
    "\n",
    "choro_map_data =  dict(zip(pop_df['County'].tolist(), pop_df['Population'].tolist()))\n",
    "\n",
    "for i in geo_json_data['features']:\n",
    "    i['id'] = i['properties']['NAME_L']\n",
    "    \n",
    "layer = ipyleaflet.Choropleth(geo_data=geo_json_data,\n",
    "                              choro_data=choro_map_data,\n",
    "                              colormap=linear.YlOrRd_04,\n",
    "                              border_color='black',\n",
    "                              style={'fillOpacity': 0.5, 'dashArray': '5, 5'})\n",
    "\n",
    "imap = Map(center=(39.78, -86.15), zoom=6)\n",
    "imap.add_layer(layer)\n",
    "imap"
   ]
  },
  {
   "cell_type": "markdown",
   "metadata": {},
   "source": [
    "### HeatMap"
   ]
  },
  {
   "cell_type": "code",
   "execution_count": 11,
   "metadata": {
    "scrolled": false
   },
   "outputs": [
    {
     "data": {
      "application/vnd.jupyter.widget-view+json": {
       "model_id": "b6daa0f26de94970a0af640e74326741",
       "version_major": 2,
       "version_minor": 0
      },
      "text/plain": [
       "Map(center=[40, -99], controls=(ZoomControl(options=['position', 'zoom_in_text', 'zoom_in_title', 'zoom_out_te…"
      ]
     },
     "metadata": {},
     "output_type": "display_data"
    }
   ],
   "source": [
    "#getting cities of US\n",
    "new_york_city = geocoder.osm('New York City, New York')\n",
    "los_angeles = geocoder.osm('Los Angeles, California')\n",
    "chicago = geocoder.osm('Chicago, Illinois')\n",
    "houston = geocoder.osm('Houston, Texas')\n",
    "phoenix = geocoder.osm('Phoenix, Arizona')\n",
    "philadelphia = geocoder.osm('Philadelphia, Pennsylvania')\n",
    "san_antonio = geocoder.osm('San Antonio, Texas')\n",
    "san_diego = geocoder.osm('San Diego, California')\n",
    "dallas = geocoder.osm('Dallas, Texas')\n",
    "san_jose = geocoder.osm('San Jose, California')\n",
    "\n",
    "#extracting latitude,longitude and population of the cities(population is the intensity measure for heatmap)\n",
    "new_york_city_latlng = [new_york_city.lat, new_york_city.lng, 8398748/1000]\n",
    "los_angeles_latlng = [los_angeles.lat, los_angeles.lng, 3990456/1000]\n",
    "chicago_latlng = [chicago.lat, chicago.lng, 2705994/1000]\n",
    "houston_latlng = [houston.lat, houston.lng, 2325502/1000]\n",
    "phoenix_latlng = [phoenix.lat, phoenix.lng, 1660272/1000]\n",
    "philadelphia_latlng = [philadelphia.lat, philadelphia.lng, 1584138/1000]\n",
    "san_antonio_latlng = [san_antonio.lat, san_antonio.lng, 1532233/1000]\n",
    "san_diego_latlng = [san_diego.lat, san_diego.lng, 1425976/1000]\n",
    "dallas_latlng = [dallas.lat, dallas.lng, 1345047/1000]\n",
    "san_jose_latlng = [san_jose.lat, san_jose.lng, 1030119/1000]\n",
    "\n",
    "large_cities = [new_york_city_latlng, los_angeles_latlng, chicago_latlng, houston_latlng, phoenix_latlng, \n",
    "                philadelphia_latlng, san_antonio_latlng, san_diego_latlng, dallas_latlng, san_jose_latlng]\n",
    "\n",
    "usmap = Map(center=(40,-99),zoom=4)\n",
    "\n",
    "heat = ipyleaflet.Heatmap(locations=large_cities,radius=30,blur=20)\n",
    "\n",
    "usmap.add_layer(heat)\n",
    "\n",
    "usmap"
   ]
  },
  {
   "cell_type": "markdown",
   "metadata": {},
   "source": [
    "### DrawControl"
   ]
  },
  {
   "cell_type": "code",
   "execution_count": 12,
   "metadata": {
    "scrolled": false
   },
   "outputs": [
    {
     "data": {
      "application/vnd.jupyter.widget-view+json": {
       "model_id": "a34d6f63db4341aea8627721c90c11f9",
       "version_major": 2,
       "version_minor": 0
      },
      "text/plain": [
       "Map(center=[0.0, 0.0], controls=(ZoomControl(options=['position', 'zoom_in_text', 'zoom_in_title', 'zoom_out_t…"
      ]
     },
     "metadata": {},
     "output_type": "display_data"
    }
   ],
   "source": [
    "from ipyleaflet import DrawControl\n",
    "\n",
    "# create map\n",
    "draw_control_map = ipyleaflet.Map(zoom=1)\n",
    "\n",
    "# create control\n",
    "draw_control = DrawControl()\n",
    "\n",
    "# add control to map\n",
    "draw_control_map.add_control(draw_control)\n",
    "\n",
    "# add extra options to control\n",
    "draw_control.circle = {\n",
    "    \"shapeOptions\": {\n",
    "        \"fillColor\": \"blue\",\n",
    "        \"color\": \"blue\",\n",
    "        \"fillOpacity\": 0.5\n",
    "    }\n",
    "}\n",
    "\n",
    "draw_control.rectangle = {\n",
    "    \"shapeOptions\": {\n",
    "        \"fillColor\": \"blue\",\n",
    "        \"color\": \"blue\",\n",
    "        \"fillOpacity\": 0.5\n",
    "    }\n",
    "}\n",
    "\n",
    "# display map\n",
    "draw_control_map"
   ]
  },
  {
   "cell_type": "markdown",
   "metadata": {},
   "source": [
    "### MeasureControl"
   ]
  },
  {
   "cell_type": "code",
   "execution_count": 13,
   "metadata": {
    "scrolled": false
   },
   "outputs": [
    {
     "data": {
      "application/vnd.jupyter.widget-view+json": {
       "model_id": "5c8a6e966e91447988684fec3b955fe8",
       "version_major": 2,
       "version_minor": 0
      },
      "text/plain": [
       "Map(center=[0.0, 0.0], controls=(ZoomControl(options=['position', 'zoom_in_text', 'zoom_in_title', 'zoom_out_t…"
      ]
     },
     "metadata": {},
     "output_type": "display_data"
    }
   ],
   "source": [
    "from ipyleaflet import MeasureControl\n",
    "map2 = Map(zoom=1)\n",
    "measure = MeasureControl(position='topleft',active_color='blue',primary_length_unit='kilometers')\n",
    "map2.add_control(measure)\n",
    "measure.completed_color='red'\n",
    "map2"
   ]
  },
  {
   "cell_type": "markdown",
   "metadata": {},
   "source": [
    "### SplitMapControl"
   ]
  },
  {
   "cell_type": "code",
   "execution_count": 14,
   "metadata": {
    "scrolled": false
   },
   "outputs": [
    {
     "data": {
      "application/vnd.jupyter.widget-view+json": {
       "model_id": "a0409083410e4ec5ad82b6c83c3f777f",
       "version_major": 2,
       "version_minor": 0
      },
      "text/plain": [
       "Map(center=[0.0, 0.0], controls=(ZoomControl(options=['position', 'zoom_in_text', 'zoom_in_title', 'zoom_out_t…"
      ]
     },
     "metadata": {},
     "output_type": "display_data"
    }
   ],
   "source": [
    "from ipyleaflet import basemap_to_tiles, SplitMapControl\n",
    "\n",
    "split_map = ipyleaflet.Map(zoom=1)\n",
    "\n",
    "# create right and left layers\n",
    "right_layer = basemap_to_tiles(basemaps.Esri.WorldStreetMap)\n",
    "left_layer = basemap_to_tiles(basemaps.NASAGIBS.ViirsEarthAtNight2012)\n",
    "\n",
    "# create control\n",
    "control = SplitMapControl(left_layer=left_layer, right_layer=right_layer)\n",
    "\n",
    "# add control to map\n",
    "split_map.add_control(control)\n",
    "\n",
    "# display map\n",
    "split_map"
   ]
  },
  {
   "cell_type": "markdown",
   "metadata": {},
   "source": [
    "### Interactive Slider"
   ]
  },
  {
   "cell_type": "code",
   "execution_count": 16,
   "metadata": {},
   "outputs": [
    {
     "data": {
      "application/vnd.jupyter.widget-view+json": {
       "model_id": "0543edaaa5d4498db094c04d4acfd92a",
       "version_major": 2,
       "version_minor": 0
      },
      "text/plain": [
       "Map(center=[0.0, 0.0], controls=(ZoomControl(options=['position', 'zoom_in_text', 'zoom_in_title', 'zoom_out_t…"
      ]
     },
     "metadata": {},
     "output_type": "display_data"
    },
    {
     "data": {
      "application/vnd.jupyter.widget-view+json": {
       "model_id": "f64857c00eb549a99e7b2e9d43364684",
       "version_major": 2,
       "version_minor": 0
      },
      "text/plain": [
       "interactive(children=(SelectionSlider(description='Slider', options=('01/02/1965', '01/04/1965', '01/05/1965',…"
      ]
     },
     "metadata": {},
     "output_type": "display_data"
    },
    {
     "data": {
      "text/plain": [
       "<function __main__.plot_earthquakes(date)>"
      ]
     },
     "execution_count": 16,
     "metadata": {},
     "output_type": "execute_result"
    }
   ],
   "source": [
    "earthquakes = pd.read_csv('database.csv')\n",
    "earthquakes = earthquakes[['Date', 'Latitude', 'Longitude', 'Magnitude']]\n",
    "earthquakes = earthquakes.head(50)\n",
    "\n",
    "selection_slider = ipywidgets.SelectionSlider(options=list(earthquakes['Date']),\n",
    "                                              value='01/02/1965',\n",
    "                                              description='Slider')\n",
    "wmap=Map(zoom=1)\n",
    "display(wmap)\n",
    "\n",
    "def plot_earthquakes(date):\n",
    "    e = earthquakes.loc[earthquakes['Date'] == date]\n",
    "    for (index, row) in e.iterrows():\n",
    "        marker = Marker(location=[row.loc['Latitude'], row.loc['Longitude']])\n",
    "        wmap.add_layer(marker)\n",
    "    print(earthquakes.loc[earthquakes['Date'] == date])\n",
    "        \n",
    "ipywidgets.interact(plot_earthquakes, date=selection_slider)                                      "
   ]
  },
  {
   "cell_type": "markdown",
   "metadata": {},
   "source": [
    "### Ploting Location with Text Widget"
   ]
  },
  {
   "cell_type": "code",
   "execution_count": 17,
   "metadata": {},
   "outputs": [
    {
     "data": {
      "application/vnd.jupyter.widget-view+json": {
       "model_id": "0018c88509af457aa62d54de83bf5fd0",
       "version_major": 2,
       "version_minor": 0
      },
      "text/plain": [
       "interactive(children=(Text(value='', description='Address', placeholder='Type here'), Output()), _dom_classes=…"
      ]
     },
     "metadata": {},
     "output_type": "display_data"
    },
    {
     "data": {
      "text/plain": [
       "<function __main__.mark(address)>"
      ]
     },
     "execution_count": 17,
     "metadata": {},
     "output_type": "execute_result"
    }
   ],
   "source": [
    "address_box = ipywidgets.Text(value='',\n",
    "                             description='Address',\n",
    "                             placeholder='Type here')\n",
    "\n",
    "def mark(address):\n",
    "    location = geocoder.osm(address)\n",
    "    map1 = Map(center=(location.lat,location.lng))\n",
    "    latlng=[location.lat,location.lng]\n",
    "    marker = Marker(location=latlng,title=str(address))\n",
    "    map1.add_layer(marker)\n",
    "    display(map1)\n",
    "    \n",
    "ipywidgets.interact(mark,address=address_box)"
   ]
  },
  {
   "cell_type": "code",
   "execution_count": null,
   "metadata": {},
   "outputs": [],
   "source": []
  }
 ],
 "metadata": {
  "kernelspec": {
   "display_name": "Python 3",
   "language": "python",
   "name": "python3"
  },
  "language_info": {
   "codemirror_mode": {
    "name": "ipython",
    "version": 3
   },
   "file_extension": ".py",
   "mimetype": "text/x-python",
   "name": "python",
   "nbconvert_exporter": "python",
   "pygments_lexer": "ipython3",
   "version": "3.7.3"
  }
 },
 "nbformat": 4,
 "nbformat_minor": 2
}
